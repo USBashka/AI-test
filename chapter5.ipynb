{
 "cells": [
  {
   "cell_type": "markdown",
   "metadata": {},
   "source": [
    "# Глава 5. Обобщение градиентного спуска"
   ]
  },
  {
   "cell_type": "code",
   "execution_count": 3,
   "metadata": {},
   "outputs": [
    {
     "name": "stdout",
     "output_type": "stream",
     "text": [
      "Weights: [0.1119, 0.20091, -0.09832]\tWeight deltas: [-1.189999999999999, -0.09099999999999994, -0.16799999999999987]\n"
     ]
    }
   ],
   "source": [
    "def w_sum(a, b):\n",
    "    assert(len(a) == len(b))\n",
    "    output = 0\n",
    "    for i in range(len(a)):\n",
    "        output += a[i] * b[i]\n",
    "    return output\n",
    "\n",
    "weights = [0.1, 0.2, -.1]\n",
    "\n",
    "def neural_network(input, weights):\n",
    "    pred = w_sum(input, weights)\n",
    "    return pred\n",
    "\n",
    "toes = [8.5, 9.5, 9.9, 9.0]  # Среднее количество сыгранных матчей\n",
    "wlrec = [0.65, 0.8, 0.8, 0.9]  # Доля побед\n",
    "nfans = [1.2, 1.3, 0.5, 1.0]  # Количество фанатов в миллионах\n",
    "\n",
    "win_or_lose = [1, 1, 0, 1]  # Целевое предсказание\n",
    "\n",
    "def ele_mul(number, vector):\n",
    "    output = [0] * len(vector)\n",
    "    for i in range(len(vector)):\n",
    "        output[i] = number * vector[i]\n",
    "    return output\n",
    "\n",
    "\n",
    "input = [toes[0], wlrec[0], nfans[0]]\n",
    "true = win_or_lose[0]\n",
    "\n",
    "pred = neural_network(input, weights)\n",
    "error = (pred - true) ** 2\n",
    "delta = pred - true\n",
    "\n",
    "weight_deltas = ele_mul(delta, input)\n",
    "\n",
    "alpha = 0.01\n",
    "\n",
    "for i in range(len(weights)):\n",
    "    weights[i] -= alpha * weight_deltas[i]\n",
    "\n",
    "print(f\"Weights: {weights}\\tWeight deltas: {weight_deltas}\")"
   ]
  },
  {
   "cell_type": "markdown",
   "metadata": {},
   "source": [
    "## Замораживание одного веса"
   ]
  },
  {
   "cell_type": "code",
   "execution_count": 4,
   "metadata": {},
   "outputs": [
    {
     "name": "stdout",
     "output_type": "stream",
     "text": [
      "Iter: 0\t\t\t\tPred: 0.8600000000000001\n",
      "Error: 0.01959999999999997\tDelta: -0.1399999999999999\n",
      "Weights: [0.1, 0.2, -0.1]\tWeight Deltas: [0, -0.09099999999999994, -0.16799999999999987]\n",
      "\n",
      "Iter: 1\t\t\t\tPred: 0.9382250000000001\n",
      "Error: 0.003816150624999989\tDelta: -0.06177499999999991\n",
      "Weights: [0.1, 0.2273, -0.04960000000000005]\tWeight Deltas: [0, -0.040153749999999946, -0.07412999999999989]\n",
      "\n",
      "Iter: 2\t\t\t\tPred: 0.97274178125\n",
      "Error: 0.000743010489422852\tDelta: -0.027258218750000007\n",
      "Weights: [0.1, 0.239346125, -0.02736100000000008]\tWeight Deltas: [0, -0.017717842187500006, -0.032709862500000006]\n",
      "\n"
     ]
    }
   ],
   "source": [
    "def neural_network(input, weights):\n",
    "    output = 0\n",
    "    for i in range(len(input)):\n",
    "        output += input[i] * weights[i]\n",
    "    return output\n",
    "\n",
    "def ele_mul(scalar, vector):\n",
    "    output = [0] * len(vector)\n",
    "    for i in range(len(vector)):\n",
    "        output[i] = scalar * vector[i]\n",
    "    return output\n",
    "\n",
    "toes = [8.5, 9.5, 9.9, 9.0]  # Среднее количество сыгранных матчей\n",
    "wlrec = [0.65, 0.8, 0.8, 0.9]  # Доля побед\n",
    "nfans = [1.2, 1.3, 0.5, 1.0]  # Количество фанатов в миллионах\n",
    "\n",
    "win_or_lose = [1, 1, 0, 1]  # Целевое предсказание\n",
    "true = win_or_lose[0]\n",
    "\n",
    "alpha = 0.3\n",
    "weights = [0.1, 0.2, -0.1]\n",
    "input = [toes[0], wlrec[0], nfans[0]]\n",
    "\n",
    "for i in range(3):\n",
    "    pred = neural_network(input, weights)\n",
    "\n",
    "    error = (pred - true) ** 2\n",
    "    delta = pred - true\n",
    "\n",
    "    weight_deltas = ele_mul(delta, input)\n",
    "    weight_deltas[0] = 0  # Заморозка входа toes\n",
    "\n",
    "    print(f\"Iter: {i}\\t\\t\\t\\tPred: {pred}\")\n",
    "    print(f\"Error: {error}\\tDelta: {delta}\")\n",
    "    print(f\"Weights: {weights}\\tWeight Deltas: {weight_deltas}\")\n",
    "    print()\n",
    "\n",
    "    for i in range(len(weights)):\n",
    "        weights[i] -= alpha * weight_deltas[i]"
   ]
  }
 ],
 "metadata": {
  "kernelspec": {
   "display_name": "Python 3",
   "language": "python",
   "name": "python3"
  },
  "language_info": {
   "codemirror_mode": {
    "name": "ipython",
    "version": 3
   },
   "file_extension": ".py",
   "mimetype": "text/x-python",
   "name": "python",
   "nbconvert_exporter": "python",
   "pygments_lexer": "ipython3",
   "version": "3.11.4"
  },
  "orig_nbformat": 4
 },
 "nbformat": 4,
 "nbformat_minor": 2
}
