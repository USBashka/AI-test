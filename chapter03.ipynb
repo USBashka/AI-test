{
 "cells": [
  {
   "attachments": {},
   "cell_type": "markdown",
   "metadata": {},
   "source": [
    "# Глава 3. Введение в нейронное прогнозирование"
   ]
  },
  {
   "attachments": {},
   "cell_type": "markdown",
   "metadata": {},
   "source": [
    "## Версия с одним входом"
   ]
  },
  {
   "cell_type": "code",
   "execution_count": 54,
   "metadata": {},
   "outputs": [
    {
     "name": "stdout",
     "output_type": "stream",
     "text": [
      "Toes: 8.5\tProbability of winning: 0.8500000000000001\n",
      "Toes: 9.5\tProbability of winning: 0.9500000000000001\n",
      "Toes: 10.0\tProbability of winning: 1.0\n",
      "Toes: 9.0\tProbability of winning: 0.9\n"
     ]
    }
   ],
   "source": [
    "weight = 0.1\n",
    "\n",
    "def neural_network(input, weight):\n",
    "    prediction = input * weight\n",
    "    return prediction\n",
    "\n",
    "num_of_toes = [8.5, 9.5, 10.0, 9.0]  # Среднее количество сыгранных матчей\n",
    "\n",
    "for input in num_of_toes:\n",
    "    print(f\"Toes: {input}\\tProbability of winning: {neural_network(input, weight)}\")"
   ]
  },
  {
   "attachments": {},
   "cell_type": "markdown",
   "metadata": {},
   "source": [
    "## Версия с тремя входами"
   ]
  },
  {
   "cell_type": "code",
   "execution_count": 55,
   "metadata": {},
   "outputs": [
    {
     "name": "stdout",
     "output_type": "stream",
     "text": [
      "Input: (8.5, 0.65, 1.2)\tProbability of winning: 0.9800000000000001\n",
      "Input: (9.5, 0.8, 1.3)\tProbability of winning: 1.11\n",
      "Input: (9.9, 0.8, 0.5)\tProbability of winning: 1.1500000000000001\n",
      "Input: (9.0, 0.9, 1.0)\tProbability of winning: 1.08\n"
     ]
    }
   ],
   "source": [
    "def w_sum(a, b):\n",
    "    \"\"\"Взвешенная сумма\n",
    "    \n",
    "    Умножает каждый элемент a на каждый элемент b и возвращает сумму произведений\"\"\"\n",
    "    assert(len(a) == len(b))\n",
    "\n",
    "    output = 0\n",
    "    for i, w in zip(a, b):\n",
    "        output += i * w\n",
    "    return output\n",
    "\n",
    "weights = [0.1, 0.2, 0]\n",
    "\n",
    "def neural_network(input, weights):\n",
    "    prediction = w_sum(input, weights)\n",
    "    return prediction\n",
    "\n",
    "toes = [8.5, 9.5, 9.9, 9.0]  # Среднее количество сыгранных матчей\n",
    "wlrec = [0.65, 0.8, 0.8, 0.9]  # Доля побед\n",
    "nfans = [1.2, 1.3, 0.5, 1.0]  # Количество фанатов в миллионах\n",
    "\n",
    "for input in zip(toes, wlrec, nfans):\n",
    "    print(f\"Input: {input}\\tProbability of winning: {neural_network(input, weights)}\")"
   ]
  },
  {
   "attachments": {},
   "cell_type": "markdown",
   "metadata": {},
   "source": [
    "## Реализация с numpy"
   ]
  },
  {
   "cell_type": "code",
   "execution_count": 59,
   "metadata": {},
   "outputs": [],
   "source": [
    "import numpy as np"
   ]
  },
  {
   "cell_type": "code",
   "execution_count": 61,
   "metadata": {},
   "outputs": [
    {
     "name": "stdout",
     "output_type": "stream",
     "text": [
      "Input: (8.5, 0.65, 1.2)\tProbability of winning: 0.9800000000000001\n",
      "Input: (9.5, 0.8, 1.3)\tProbability of winning: 1.11\n",
      "Input: (9.9, 0.8, 0.5)\tProbability of winning: 1.1500000000000001\n",
      "Input: (9.0, 0.9, 1.0)\tProbability of winning: 1.08\n"
     ]
    }
   ],
   "source": [
    "\n",
    "weights = np.array([0.1, 0.2, 0])\n",
    "\n",
    "def neural_network(input, weights):\n",
    "    prediction = input.dot(weights)  # Скалярное произведение векторов аналогично взвешенной сумме\n",
    "    return prediction\n",
    "\n",
    "toes = np.array([8.5, 9.5, 9.9, 9.0])\n",
    "wlrec = np.array([0.65, 0.8, 0.8, 0.9])\n",
    "nfans = np.array([1.2, 1.3, 0.5, 1.0])\n",
    "\n",
    "for input in zip(toes, wlrec, nfans):\n",
    "    print(f\"Input: {input}\\tProbability of winning: {neural_network(np.array(input), weights)}\")"
   ]
  }
 ],
 "metadata": {
  "kernelspec": {
   "display_name": "Python 3.10.7 64-bit",
   "language": "python",
   "name": "python3"
  },
  "language_info": {
   "codemirror_mode": {
    "name": "ipython",
    "version": 3
   },
   "file_extension": ".py",
   "mimetype": "text/x-python",
   "name": "python",
   "nbconvert_exporter": "python",
   "pygments_lexer": "ipython3",
   "version": "3.10.7"
  },
  "orig_nbformat": 4,
  "vscode": {
   "interpreter": {
    "hash": "8f0f7130a4309a0f83086a87cf22a7631951db274c4192f1c40de647b77aac14"
   }
  }
 },
 "nbformat": 4,
 "nbformat_minor": 2
}
