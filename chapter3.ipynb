{
 "cells": [
  {
   "attachments": {},
   "cell_type": "markdown",
   "metadata": {},
   "source": [
    "# Версия с одним входом"
   ]
  },
  {
   "cell_type": "code",
   "execution_count": 1,
   "metadata": {},
   "outputs": [
    {
     "name": "stdout",
     "output_type": "stream",
     "text": [
      "Toes: 8.5\tProbability: 0.8500000000000001\n",
      "Toes: 9.5\tProbability: 0.9500000000000001\n",
      "Toes: 10\tProbability: 1.0\n",
      "Toes: 9\tProbability: 0.9\n"
     ]
    }
   ],
   "source": [
    "weight = 0.1\n",
    "\n",
    "def neural_network(input, weight):\n",
    "    prediction = input * weight\n",
    "    return prediction\n",
    "num_of_toes = [8.5, 9.5, 10, 9]\n",
    "\n",
    "for input in num_of_toes:\n",
    "    print(f\"Toes: {input}\\tProbability: {neural_network(input, weight)}\")"
   ]
  },
  {
   "attachments": {},
   "cell_type": "markdown",
   "metadata": {},
   "source": [
    "# Версия с тремя входами"
   ]
  },
  {
   "cell_type": "code",
   "execution_count": 2,
   "metadata": {},
   "outputs": [
    {
     "name": "stdout",
     "output_type": "stream",
     "text": [
      "Input: (8.5, 0.65, 1.2)\tProbability: 0.9800000000000001\n",
      "Input: (9.5, 0.8, 1.3)\tProbability: 1.11\n",
      "Input: (9.9, 0.8, 0.5)\tProbability: 1.1500000000000001\n",
      "Input: (9.0, 0.9, 1.0)\tProbability: 1.08\n"
     ]
    }
   ],
   "source": [
    "def w_sum(a, b):\n",
    "    assert(len(a) == len(b))\n",
    "\n",
    "    output = 0\n",
    "    for i, w in zip(a, b):\n",
    "        output += i * w\n",
    "    return output\n",
    "\n",
    "weights = [0.1, 0.2, 0]\n",
    "\n",
    "def neural_network(input, weights):\n",
    "    prediction = w_sum(input, weights)\n",
    "    return prediction\n",
    "\n",
    "toes = [8.5, 9.5, 9.9, 9.0]\n",
    "wlrec = [0.65, 0.8, 0.8, 0.9]\n",
    "nfans = [1.2, 1.3, 0.5, 1.0]\n",
    "\n",
    "for input in zip(toes, wlrec, nfans):\n",
    "    print(f\"Input: {input}\\tProbability: {neural_network(input, weights)}\")"
   ]
  },
  {
   "attachments": {},
   "cell_type": "markdown",
   "metadata": {},
   "source": [
    "# Реализация с numpy"
   ]
  },
  {
   "cell_type": "code",
   "execution_count": 4,
   "metadata": {},
   "outputs": [
    {
     "ename": "AttributeError",
     "evalue": "'tuple' object has no attribute 'dot'",
     "output_type": "error",
     "traceback": [
      "\u001b[1;31m---------------------------------------------------------------------------\u001b[0m",
      "\u001b[1;31mAttributeError\u001b[0m                            Traceback (most recent call last)",
      "Cell \u001b[1;32mIn [4], line 14\u001b[0m\n\u001b[0;32m     11\u001b[0m nfans \u001b[39m=\u001b[39m np\u001b[39m.\u001b[39marray([\u001b[39m1.2\u001b[39m, \u001b[39m1.3\u001b[39m, \u001b[39m0.5\u001b[39m, \u001b[39m1.0\u001b[39m])\n\u001b[0;32m     13\u001b[0m \u001b[39mfor\u001b[39;00m \u001b[39minput\u001b[39m \u001b[39min\u001b[39;00m \u001b[39mzip\u001b[39m(toes, wlrec, nfans):\n\u001b[1;32m---> 14\u001b[0m     \u001b[39mprint\u001b[39m(\u001b[39mf\u001b[39m\u001b[39m\"\u001b[39m\u001b[39mInput: \u001b[39m\u001b[39m{\u001b[39;00mnp\u001b[39m.\u001b[39marray(\u001b[39minput\u001b[39m)\u001b[39m}\u001b[39;00m\u001b[39m\\t\u001b[39;00m\u001b[39mProbability: \u001b[39m\u001b[39m{\u001b[39;00mneural_network(\u001b[39minput\u001b[39;49m, weights)\u001b[39m}\u001b[39;00m\u001b[39m\"\u001b[39m)\n",
      "Cell \u001b[1;32mIn [4], line 6\u001b[0m, in \u001b[0;36mneural_network\u001b[1;34m(input, weights)\u001b[0m\n\u001b[0;32m      5\u001b[0m \u001b[39mdef\u001b[39;00m \u001b[39mneural_network\u001b[39m(\u001b[39minput\u001b[39m, weights):\n\u001b[1;32m----> 6\u001b[0m     prediction \u001b[39m=\u001b[39m \u001b[39minput\u001b[39;49m\u001b[39m.\u001b[39;49mdot(weights)\n\u001b[0;32m      7\u001b[0m     \u001b[39mreturn\u001b[39;00m prediction\n",
      "\u001b[1;31mAttributeError\u001b[0m: 'tuple' object has no attribute 'dot'"
     ]
    }
   ],
   "source": [
    "import numpy as np\n",
    "\n",
    "weights = np.array([0.1, 0.2, 0])\n",
    "\n",
    "def neural_network(input, weights):\n",
    "    prediction = input.dot(weights)\n",
    "    return prediction\n",
    "\n",
    "toes = np.array([8.5, 9.5, 9.9, 9.0])\n",
    "wlrec = np.array([0.65, 0.8, 0.8, 0.9])\n",
    "nfans = np.array([1.2, 1.3, 0.5, 1.0])\n",
    "\n",
    "for input in zip(toes, wlrec, nfans):\n",
    "    print(f\"Input: {np.array(input)}\\tProbability: {neural_network(input, weights)}\")"
   ]
  }
 ],
 "metadata": {
  "kernelspec": {
   "display_name": "Python 3.10.7 64-bit",
   "language": "python",
   "name": "python3"
  },
  "language_info": {
   "codemirror_mode": {
    "name": "ipython",
    "version": 3
   },
   "file_extension": ".py",
   "mimetype": "text/x-python",
   "name": "python",
   "nbconvert_exporter": "python",
   "pygments_lexer": "ipython3",
   "version": "3.10.7"
  },
  "orig_nbformat": 4,
  "vscode": {
   "interpreter": {
    "hash": "8f0f7130a4309a0f83086a87cf22a7631951db274c4192f1c40de647b77aac14"
   }
  }
 },
 "nbformat": 4,
 "nbformat_minor": 2
}
